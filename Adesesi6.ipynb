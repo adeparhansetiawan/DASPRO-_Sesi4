{
 "cells": [
  {
   "cell_type": "code",
   "execution_count": 2,
   "id": "08068937-02dd-4978-a051-c03637d0c33b",
   "metadata": {},
   "outputs": [
    {
     "name": "stdin",
     "output_type": "stream",
     "text": [
      "Masukan umur: 59\n"
     ]
    },
    {
     "name": "stdout",
     "output_type": "stream",
     "text": [
      "Kategori :Dewasa\n"
     ]
    }
   ],
   "source": [
    "umur = int(input(\"Masukan umur:\"))\n",
    "\n",
    "if umur > 59 :\n",
    "    kategori = \"Lansia\"\n",
    "\n",
    "elif umur > 17 :\n",
    "    kategori = \"Dewasa\"\n",
    "\n",
    "elif umur > 12 :\n",
    "    kategori = \"Remaja\"\n",
    "\n",
    "elif umur >= 0 :\n",
    "    kategori = \"Anak -anak\"\n",
    "\n",
    "else :\n",
    "    kategori = \"Umur tidak valid\"\n",
    "    \n",
    "print(f\"Kategori :{kategori}\")"
   ]
  },
  {
   "cell_type": "code",
   "execution_count": 1,
   "id": "6f9d292b-5d06-410f-b068-725c6ec67fb8",
   "metadata": {},
   "outputs": [
    {
     "name": "stdin",
     "output_type": "stream",
     "text": [
      "Isikan umur pengunjung: 50\n",
      "Isikan jumlah pengunjung: 10\n",
      "Isikan jumlah pengunjung: 10\n"
     ]
    },
    {
     "name": "stdout",
     "output_type": "stream",
     "text": [
      "Tiket 1: Tiket Dewasa total harga 25000\n",
      "Tiket 2: Tiket Anak - anak total harga 10000\n",
      "Tiket 3: Tiket Anak - anak total harga 10000\n",
      "==============================================\n",
      "Total harga yang harus dibayar : 45000\n"
     ]
    }
   ],
   "source": [
    "tiket1 = int(input(\"Isikan umur pengunjung:\"))\n",
    "tiket2 = int(input(\"Isikan jumlah pengunjung:\"))\n",
    "tiket3 = int(input(\"Isikan jumlah pengunjung:\"))\n",
    "\n",
    "total = 0\n",
    "\n",
    "if tiket1 > 60 :\n",
    "    keterangan1 = \"Tiket lansia\"\n",
    "    harga1 = 0\n",
    "elif tiket1 > 17 :\n",
    "    keterangan1 = \"Tiket Dewasa\"\n",
    "    harga1 = 25000\n",
    "elif tiket1 > 12 :\n",
    "    keterangan1 = \"Tiket Remaja\"\n",
    "    harga1 = 15000\n",
    "elif tiket1 >= 0 :\n",
    "    keterangan1 = \"Tiket Anak - anak\"\n",
    "    harga1 = 10000\n",
    "total += harga1\n",
    "\n",
    "if tiket2 > 60 :\n",
    "    keterangan2 = \"Tiket lansia\"\n",
    "    harga2 = 0\n",
    "elif tiket2 > 17 :\n",
    "    keterangan2 = \"Tiket Dewasa\"\n",
    "    harga2 = 25000\n",
    "elif tiket2 > 12 :\n",
    "    keterangan2 = \"Tiket Remaja\"\n",
    "    harga2 = 15000\n",
    "elif tiket2 >= 0 :\n",
    "    keterangan2 = \"Tiket Anak - anak\"\n",
    "    harga2 = 10000\n",
    "total += harga2\n",
    "\n",
    "if tiket3 > 60 :\n",
    "    keterangan3 = \"Tiket lansia\"\n",
    "    harga3 = 0\n",
    "elif tiket3 > 17 :\n",
    "    keterangan3 = \"Tiket Dewasa\"\n",
    "    harga3 = 25000\n",
    "elif tiket3 > 12 :\n",
    "    keterangan3 = \"Tiket Remaja\"\n",
    "    harga3 = 15000\n",
    "elif tiket3 >= 0 :\n",
    "    keterangan3 = \"Tiket Anak - anak\"\n",
    "    harga3 = 10000\n",
    "total += harga3\n",
    "\n",
    "\n",
    "print(f\"Tiket 1: {keterangan1} total harga {harga1}\")\n",
    "print(f\"Tiket 2: {keterangan2} total harga {harga2}\")\n",
    "print(f\"Tiket 3: {keterangan3} total harga {harga3}\")\n",
    "print(\"==============================================\")\n",
    "print(f\"Total harga yang harus dibayar : {total}\")"
   ]
  },
  {
   "cell_type": "code",
   "execution_count": 3,
   "id": "70e2fdd7-7cbf-4014-a4ba-6629d05b4120",
   "metadata": {},
   "outputs": [
    {
     "name": "stdin",
     "output_type": "stream",
     "text": [
      "Isikan pembayaran UKT: 5000000\n",
      "Isikan penghasilan ortu: 6000000\n",
      "Isikan Nilai Rapor Siswa: 90\n"
     ]
    },
    {
     "name": "stdout",
     "output_type": "stream",
     "text": [
      "Anda harus membayar: 5000000.0\n"
     ]
    }
   ],
   "source": [
    "ukt = int(input(\"Isikan pembayaran UKT:\"))\n",
    "penghasilan = int(input(\"Isikan penghasilan ortu:\"))\n",
    "nilaiRapor = int(input(\"Isikan Nilai Rapor Siswa:\"))\n",
    "\n",
    "beasiswa = 0\n",
    "\n",
    "if nilaiRapor >= 90 :\n",
    "    if penghasilan < 5000000 :\n",
    "        beasiswa = 100\n",
    "elif nilaiRapor >= 85 :\n",
    "    if penghasilan < 8000000 :\n",
    "        beasiswa = 50\n",
    "else :\n",
    "    print(\"Anda tidak mendapatkan beasiswa\")\n",
    "\n",
    "\n",
    "total = ukt - (ukt * (beasiswa / 100))\n",
    "print(f\"Anda harus membayar: {total}\")"
   ]
  },
  {
   "cell_type": "code",
   "execution_count": 5,
   "id": "bc889ccb-68b7-4f64-9059-15b378866e05",
   "metadata": {},
   "outputs": [
    {
     "name": "stdin",
     "output_type": "stream",
     "text": [
      "Masukan kendaraan: (mobil/motor) mobil\n",
      "Lama durasi parkir: (jam) 2\n"
     ]
    },
    {
     "name": "stdout",
     "output_type": "stream",
     "text": [
      "Total yang harus dibayar: 10000\n"
     ]
    }
   ],
   "source": [
    "jenis = input(\"Masukan kendaraan: (mobil/motor)\")\n",
    "lamaParkir = int(input(\"Lama durasi parkir: (jam)\"))\n",
    "\n",
    "harga = 0\n",
    "    \n",
    "if jenis == \"mobil\" :\n",
    "    harga += 5000\n",
    "elif jenis == \"motor\" :\n",
    "    harga += 2000\n",
    "else :\n",
    "    print(\"Kendaraan tidak valid\")\n",
    "    harga = 0\n",
    "\n",
    "totalHarga = harga * lamaParkir\n",
    "if lamaParkir >= 5 :\n",
    "    totalHarga += 10000\n",
    "print(f\"Total yang harus dibayar: {totalHarga}\")"
   ]
  },
  {
   "cell_type": "code",
   "execution_count": 7,
   "id": "7b8809cf-b0f3-4467-9c73-f54b20f529b3",
   "metadata": {},
   "outputs": [
    {
     "name": "stdin",
     "output_type": "stream",
     "text": [
      "Masukan nomor punggung 76\n"
     ]
    },
    {
     "name": "stdout",
     "output_type": "stream",
     "text": [
      "Anda menjadi target attaker dan anda Berhak dipilih menjadi kapten\n"
     ]
    }
   ],
   "source": [
    "nomor = int(input(\"Masukan nomor punggung\"))\n",
    "\n",
    "if nomor % 2 == 0 :\n",
    "    keterangan = \"target attaker\"\n",
    "    if 50 <= nomor <= 100 : \n",
    "        keterangan2 = \"Berhak dipilih menjadi kapten\"\n",
    "elif nomor % 2 == 1:\n",
    "    keterangan = \"defender\"\n",
    "    if nomor > 90 :\n",
    "        keterangan2 = \"PlayMaker\"\n",
    "    elif nomor % 3 == 0 or nomor % 5 == 0 :\n",
    "        keterangan2 = \"Keeper\"\n",
    "else :\n",
    "    print(\"Tidak Valdi\")\n",
    "\n",
    "print(f\"Anda menjadi {keterangan} dan anda {keterangan2}\")"
   ]
  }
 ],
 "metadata": {
  "kernelspec": {
   "display_name": "Python [conda env:base] *",
   "language": "python",
   "name": "conda-base-py"
  },
  "language_info": {
   "codemirror_mode": {
    "name": "ipython",
    "version": 3
   },
   "file_extension": ".py",
   "mimetype": "text/x-python",
   "name": "python",
   "nbconvert_exporter": "python",
   "pygments_lexer": "ipython3",
   "version": "3.12.7"
  }
 },
 "nbformat": 4,
 "nbformat_minor": 5
}
